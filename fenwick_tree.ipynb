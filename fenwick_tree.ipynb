{
 "cells": [
  {
   "cell_type": "markdown",
   "metadata": {},
   "source": [
    "## Fenwick Tree\n",
    "\n",
    "Also known as Binary Indexed Tree, is a data structure that efficiently supports cumulative frequency queries and updates over a dynamic array of values.\n",
    "\n",
    "![fenwick-tree](https://github.com/Devansh3712/tandb/assets/58616444/f3326662-8f4e-49f5-9c60-c80cdb17ebd1)"
   ]
  },
  {
   "cell_type": "code",
   "execution_count": 2,
   "metadata": {},
   "outputs": [],
   "source": [
    "class FenwickTree:\n",
    "    def __init__(self, size: int) -> None:\n",
    "        self.size = size\n",
    "        self.tree = [0 for _ in range(self.size + 1)]\n",
    "\n",
    "    def query(self, index: int) -> int:\n",
    "        \"\"\"Calculate the cumulative sum to a given index\"\"\"\n",
    "        result = 0\n",
    "        while index > 0:\n",
    "            result += self.tree[index]\n",
    "            # index & -index calculates the least significant bit\n",
    "            # of the binary representation of index\n",
    "            # Isolates the rightmost set bit, helps determine the\n",
    "            # parent node\n",
    "            index -= index & -index\n",
    "        return result\n",
    "\n",
    "    def range_query(self, left: int, right: int) -> int:\n",
    "        \"\"\"Calculate the sum of elements within the range [left, right]\"\"\"\n",
    "        left_sum = self.query(left - 1) if left > 1 else 0\n",
    "        right_sum = self.query(right)\n",
    "        return right_sum - left_sum \n",
    "\n",
    "    def update(self, index: int, delta: int):\n",
    "        while index <= self.size:\n",
    "            self.tree[index] += delta\n",
    "            index += index & -index"
   ]
  },
  {
   "cell_type": "code",
   "execution_count": 4,
   "metadata": {},
   "outputs": [
    {
     "data": {
      "text/plain": [
       "16"
      ]
     },
     "execution_count": 4,
     "metadata": {},
     "output_type": "execute_result"
    }
   ],
   "source": [
    "arr = [1, 3, 5, 7, 9, 11]\n",
    "t = FenwickTree(len(arr))\n",
    "\n",
    "for i, n in enumerate(arr):\n",
    "    # 1-based indexing\n",
    "    t.update(i + 1, n)\n",
    "\n",
    "t.query(4)"
   ]
  }
 ],
 "metadata": {
  "kernelspec": {
   "display_name": "venv",
   "language": "python",
   "name": "python3"
  },
  "language_info": {
   "codemirror_mode": {
    "name": "ipython",
    "version": 3
   },
   "file_extension": ".py",
   "mimetype": "text/x-python",
   "name": "python",
   "nbconvert_exporter": "python",
   "pygments_lexer": "ipython3",
   "version": "3.10.12"
  }
 },
 "nbformat": 4,
 "nbformat_minor": 2
}
