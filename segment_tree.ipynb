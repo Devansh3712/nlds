{
 "cells": [
  {
   "cell_type": "markdown",
   "metadata": {},
   "source": [
    "## Segment Tree\n",
    "\n",
    "A versatile data structure used mainly in scenarios where there is a need to efficiently handle interval or range-based queries over an array. The structure involves breaking down the array into segments or intervals, and then organizing them in a tree-like fashion.\n",
    "\n",
    "![segment-tree](https://github.com/Devansh3712/tandb/assets/58616444/8036e515-8206-47b2-9678-3221148083d9)"
   ]
  },
  {
   "cell_type": "code",
   "execution_count": 4,
   "metadata": {},
   "outputs": [],
   "source": [
    "class SegmentTree:\n",
    "    def __init__(self, nums: list[str]) -> None:\n",
    "        self.nums = nums\n",
    "        # A binary tree with n leaf nodes would have a total of\n",
    "        # 2 * n - 1 nodes in a complete binary tree\n",
    "        # For efficient memory usage we round up to the next power\n",
    "        # of 2 to allocate space for segment tree\n",
    "        self.tree = [0 for _ in range(4 * len(self.nums))]\n",
    "        self._build(0, 0, len(self.nums) - 1)\n",
    "\n",
    "    def _build(self, node: int, start: int, end: int) -> None:\n",
    "        # Reached a leaf node\n",
    "        if start == end:\n",
    "            self.tree[node] = self.nums[start]\n",
    "        else:\n",
    "            mid = (start + end) // 2\n",
    "            # The left child of the current node is located at index\n",
    "            # 2 * node + 1, and its range is [start, mid]\n",
    "            self._build(2 * node + 1, start, mid)\n",
    "            # The right child of the current node is located at index\n",
    "            # 2 * node + 2, and its range is [mid + 1, end]\n",
    "            self._build(2 * node + 2, mid + 1, end)\n",
    "            # After building subtrees, update value of the current node\n",
    "            self.tree[node] = self.tree[2 * node + 1] + self.tree[2 * node + 2]\n",
    "\n",
    "    def _query(\n",
    "        self, node: int, start: int, end: int, left: int, right: int\n",
    "    ) -> int:\n",
    "        if start > right or end < left:\n",
    "            return 0\n",
    "        if left <= start and right >= end:\n",
    "            return self.tree[node]\n",
    "        mid = (start + end) // 2\n",
    "        left_sum = self._query(2 * node + 1, start, mid, left, right)\n",
    "        right_sum = self._query(2 * node + 2, mid + 1, end, left, right)\n",
    "        return left_sum + right_sum\n",
    "\n",
    "    def query(self, left: int, right: int) -> int:\n",
    "        return self._query(0, 0, len(self.nums) - 1, left, right)\n",
    "\n",
    "    def _update(\n",
    "        self, node: int, start: int, end: int, index: int, value: int\n",
    "    ) -> None:\n",
    "        if start == end:\n",
    "            self.tree[node] = value\n",
    "            self.nums[index] = value\n",
    "        else:\n",
    "            mid = (start + end) // 2\n",
    "            if start <= index <= mid:\n",
    "                self._update(2 * node + 1, start, mid, index, value)\n",
    "            else:\n",
    "                self._update(2 * node + 2, mid + 1, end, index, value)\n",
    "            self.tree[node] = self.tree[2 * node + 1] + self.tree[2 * node + 2]\n",
    "\n",
    "    def update(self, index: int, value: int) -> None:\n",
    "        return self._update(0, 0, len(self.nums) - 1, index, value)"
   ]
  },
  {
   "cell_type": "code",
   "execution_count": 5,
   "metadata": {},
   "outputs": [
    {
     "data": {
      "text/plain": [
       "-1"
      ]
     },
     "execution_count": 5,
     "metadata": {},
     "output_type": "execute_result"
    }
   ],
   "source": [
    "arr = [1, 3, -2, 8, -7]\n",
    "t = SegmentTree(arr)\n",
    "t.query(2, 4)"
   ]
  },
  {
   "cell_type": "code",
   "execution_count": 6,
   "metadata": {},
   "outputs": [
    {
     "data": {
      "text/plain": [
       "4"
      ]
     },
     "execution_count": 6,
     "metadata": {},
     "output_type": "execute_result"
    }
   ],
   "source": [
    "t.update(2, 3)\n",
    "t.query(2, 4)"
   ]
  }
 ],
 "metadata": {
  "kernelspec": {
   "display_name": "venv",
   "language": "python",
   "name": "python3"
  },
  "language_info": {
   "codemirror_mode": {
    "name": "ipython",
    "version": 3
   },
   "file_extension": ".py",
   "mimetype": "text/x-python",
   "name": "python",
   "nbconvert_exporter": "python",
   "pygments_lexer": "ipython3",
   "version": "3.10.12"
  }
 },
 "nbformat": 4,
 "nbformat_minor": 2
}
