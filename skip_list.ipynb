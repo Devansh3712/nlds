{
 "cells": [
  {
   "cell_type": "markdown",
   "metadata": {},
   "source": [
    "## Skip List\n",
    "\n",
    "A probabilistic data-structure that allows for efficient searching, insertion, deletion, and other operations on a sorted collection of elements.\n",
    "\n",
    "![skip-list](https://github.com/Devansh3712/tandb/assets/58616444/fa839bad-4eaf-4eba-99eb-5407689494f4)"
   ]
  },
  {
   "cell_type": "code",
   "execution_count": 5,
   "metadata": {},
   "outputs": [],
   "source": [
    "import random\n",
    "from typing import Tuple\n",
    "\n",
    "class SkipListNode:\n",
    "    def __init__(self, value: int, level: int) -> None:\n",
    "        self.value = value\n",
    "        self.forward = [None] * (level + 1)\n",
    "\n",
    "\n",
    "class SkipList:\n",
    "    def __init__(self, max_level: int, probability: float) -> None:\n",
    "        self.max_level = max_level\n",
    "        self.probability = probability\n",
    "        self.header = SkipListNode(float(\"-inf\"), max_level)\n",
    "        self.level = 0\n",
    "\n",
    "    def _random_level(self) -> int:\n",
    "        level = 0\n",
    "        while random.random() < self.probability and level < self.max_level:\n",
    "            level += 1\n",
    "        return level\n",
    "\n",
    "    def _update_nodes(self, value: int) -> Tuple[SkipListNode, list[SkipListNode]]:\n",
    "        update = [None] * (self.max_level + 1)\n",
    "        current = self.header\n",
    "\n",
    "        # Traverse the skip list from the top level to the bottom level\n",
    "        for i in range(self.level, -1, -1):\n",
    "            while current.forward[i] and current.forward[i].value < value:\n",
    "                current = current.forward[i]\n",
    "            # Keep track of nodes to be updated during insertion\n",
    "            update[i] = current\n",
    "\n",
    "        return (current, update)\n",
    "\n",
    "    def insert(self, value: int) -> None:\n",
    "        current, update = self._update_nodes(value)\n",
    "        current = current.forward[0]\n",
    "\n",
    "        if not current or current.value != value:\n",
    "            new_level = self._random_level()\n",
    "            if new_level > self.level:\n",
    "                for i in range(self.level + 1, new_level + 1):\n",
    "                    update[i] = self.header\n",
    "                self.level = new_level\n",
    "\n",
    "            new_node = SkipListNode(value, new_level)\n",
    "            for i in range(new_level + 1):\n",
    "                new_node.forward[i] = update[i].forward[i]\n",
    "                update[i].forward[i] = new_node\n",
    "\n",
    "    def search(self, value: int) -> bool:\n",
    "        current = self.header\n",
    "        for i in range(self.level, -1, -1):\n",
    "            while current.forward[i] and current.forward[i].value < value:\n",
    "                current = current.forward[i]\n",
    "\n",
    "        current = current.forward[0]\n",
    "        if current and current.value == value:\n",
    "            return True\n",
    "        return False\n",
    "\n",
    "    def delete(self, value: int) -> None:\n",
    "        current, update = self._update_nodes(value)\n",
    "        current = current.forward[0]\n",
    "\n",
    "        if current and current.value == value:\n",
    "            for i in range(self.level + 1):\n",
    "                if update[i].forward[i] != current:\n",
    "                    break\n",
    "                update[i].forward[i] = current.forward[i]\n",
    "            while self.level > 0 and not self.header.forward[self.level]:\n",
    "                self.level -= 1\n",
    "\n",
    "    def print(self):\n",
    "        for level in range(self.level + 1):\n",
    "            print(f\"L{level}: \", end=\"\")\n",
    "            node = self.header.forward[level]\n",
    "            while node:\n",
    "                print(node.value, end=\" -> \")\n",
    "                node = node.forward[level]\n",
    "            print(\"None\")"
   ]
  },
  {
   "cell_type": "code",
   "execution_count": 10,
   "metadata": {},
   "outputs": [
    {
     "name": "stdout",
     "output_type": "stream",
     "text": [
      "L0: 1 -> 2 -> 3 -> 4 -> 5 -> 6 -> 7 -> 8 -> 9 -> 10 -> None\n",
      "L1: 1 -> 2 -> 3 -> 4 -> 5 -> 6 -> 8 -> None\n",
      "L2: 2 -> 3 -> 4 -> 6 -> 8 -> None\n",
      "L3: 3 -> 4 -> 6 -> None\n"
     ]
    }
   ],
   "source": [
    "arr = [i for i in range(1, 11)]\n",
    "s = SkipList(max_level=3, probability=0.5)\n",
    "\n",
    "for i in arr:\n",
    "    s.insert(i)\n",
    "\n",
    "s.print()"
   ]
  }
 ],
 "metadata": {
  "kernelspec": {
   "display_name": "venv",
   "language": "python",
   "name": "python3"
  },
  "language_info": {
   "codemirror_mode": {
    "name": "ipython",
    "version": 3
   },
   "file_extension": ".py",
   "mimetype": "text/x-python",
   "name": "python",
   "nbconvert_exporter": "python",
   "pygments_lexer": "ipython3",
   "version": "3.10.12"
  }
 },
 "nbformat": 4,
 "nbformat_minor": 2
}
