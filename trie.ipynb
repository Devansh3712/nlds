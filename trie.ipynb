{
 "cells": [
  {
   "cell_type": "markdown",
   "metadata": {},
   "source": [
    "## Trie\n",
    "It is a tree-like data structure that is used to store a dynamic set of strings where the keys are usually strings. Each node in a trie represents a common prefix of some strings.\n",
    "\n",
    "![trie](https://github.com/Devansh3712/nlds/assets/58616444/e3bdd63d-8185-4c6a-9db2-6e3a9a87e195)"
   ]
  },
  {
   "cell_type": "code",
   "execution_count": 25,
   "metadata": {},
   "outputs": [],
   "source": [
    "class TrieNode:\n",
    "    def __init__(self) -> None:\n",
    "        self.children: dict[str, TrieNode] = {}\n",
    "        self.end_of_word: bool = False\n",
    "\n",
    "\n",
    "class Trie:\n",
    "    def __init__(self) -> None:\n",
    "        self.root = TrieNode()\n",
    "\n",
    "    def insert(self, word: str) -> None:\n",
    "        node = self.root\n",
    "        for char in word:\n",
    "            if char not in node.children:\n",
    "                node.children[char] = TrieNode()\n",
    "            node = node.children[char]\n",
    "        node.end_of_word = True\n",
    "\n",
    "    def search(self, word: str) -> bool:\n",
    "        node = self.root\n",
    "        for char in word:\n",
    "            if char not in node.children:\n",
    "                return False\n",
    "            node = node.children[char]\n",
    "        return node.end_of_word\n",
    "\n",
    "    def _delete(self, node: TrieNode, word: str, depth: int) -> bool:\n",
    "        if depth == len(word):\n",
    "            # If the current word does not represent end of word, it\n",
    "            # means the word does not exist in the trie\n",
    "            if not node.end_of_word:\n",
    "                return False\n",
    "            node.end_of_word = False\n",
    "            # Check if current node has no children, indicating it can\n",
    "            # be safely deleted\n",
    "            return len(node.children) == 0\n",
    "\n",
    "        char = word[depth]\n",
    "        # If character not present in the children of current node, it\n",
    "        # means it does not exist in the trie\n",
    "        if char not in node.children:\n",
    "            return False\n",
    "\n",
    "        # Delete the current node if child node indicates\n",
    "        if self._delete(node.children[char], word, depth + 1):\n",
    "            del node.children[char]\n",
    "            return len(node.children) == 0\n",
    "\n",
    "        return False\n",
    "\n",
    "    def delete(self, word: str) -> bool:\n",
    "        return self._delete(self.root, word, 0)"
   ]
  },
  {
   "cell_type": "code",
   "execution_count": 26,
   "metadata": {},
   "outputs": [],
   "source": [
    "trie = Trie()\n",
    "\n",
    "words = [\"pot\", \"past\", \"pass\", \"part\"]\n",
    "for word in words:\n",
    "    trie.insert(word)"
   ]
  }
 ],
 "metadata": {
  "kernelspec": {
   "display_name": "Python 3",
   "language": "python",
   "name": "python3"
  },
  "language_info": {
   "codemirror_mode": {
    "name": "ipython",
    "version": 3
   },
   "file_extension": ".py",
   "mimetype": "text/x-python",
   "name": "python",
   "nbconvert_exporter": "python",
   "pygments_lexer": "ipython3",
   "version": "3.10.12"
  }
 },
 "nbformat": 4,
 "nbformat_minor": 2
}
